{
 "cells": [
  {
   "cell_type": "markdown",
   "metadata": {},
   "source": [
    "# www.atptour.com Webscraper \n",
    "\n",
    "##### To prevent blocking\n",
    "clicks interval of 0.6 seconds\n",
    "add randomness"
   ]
  },
  {
   "cell_type": "code",
   "execution_count": 79,
   "metadata": {},
   "outputs": [],
   "source": [
    "from bs4 import BeautifulSoup\n",
    "import requests\n",
    "import re\n",
    "import pandas as pd\n",
    "import numpy as np\n",
    "from tqdm import tqdm\n",
    "from datetime import datetime\n",
    "\n",
    "import warnings\n",
    "warnings.filterwarnings(\"ignore\")\n",
    "\n",
    "from functions import *"
   ]
  },
  {
   "cell_type": "markdown",
   "metadata": {
    "toc-hr-collapsed": false
   },
   "source": [
    "# Webscraper initialization for single page (one date)"
   ]
  },
  {
   "cell_type": "code",
   "execution_count": 2,
   "metadata": {},
   "outputs": [
    {
     "name": "stdout",
     "output_type": "stream",
     "text": [
      "<Response [200]>\n"
     ]
    }
   ],
   "source": [
    "url = \"https://www.atpworldtour.com/en/rankings/singles/?rankDate=2018-7-30&countryCode=all&rankRange=1-100\"\n",
    "page = requests.get(url)\n",
    "print(page) \n",
    "\n",
    "soup = BeautifulSoup(page.content, \"html.parser\")"
   ]
  },
  {
   "cell_type": "markdown",
   "metadata": {},
   "source": [
    "## Ranking"
   ]
  },
  {
   "cell_type": "code",
   "execution_count": 3,
   "metadata": {},
   "outputs": [],
   "source": [
    "ranking = soup.find_all(\"td\", {\"class\": \"rank-cell\"})\n",
    "ranking = [item.get_text().strip() for item in ranking]"
   ]
  },
  {
   "cell_type": "markdown",
   "metadata": {},
   "source": [
    "### Move"
   ]
  },
  {
   "cell_type": "code",
   "execution_count": 4,
   "metadata": {},
   "outputs": [],
   "source": [
    "move = soup.find_all(\"div\", {\"class\": \"move-text\"})\n",
    "move = [item.get_text().strip() for item in move]"
   ]
  },
  {
   "cell_type": "markdown",
   "metadata": {},
   "source": [
    "### Country"
   ]
  },
  {
   "cell_type": "code",
   "execution_count": 5,
   "metadata": {},
   "outputs": [
    {
     "data": {
      "text/plain": [
       "[<img alt=\"ESP\" onerror=\"this.remove()\" src=\"/en/~/media/images/flags/esp.svg\"/>,\n",
       " <img alt=\"SUI\" onerror=\"this.remove()\" src=\"/en/~/media/images/flags/sui.svg\"/>,\n",
       " <img alt=\"GER\" onerror=\"this.remove()\" src=\"/en/~/media/images/flags/ger.svg\"/>,\n",
       " <img alt=\"ARG\" onerror=\"this.remove()\" src=\"/en/~/media/images/flags/arg.svg\"/>,\n",
       " <img alt=\"RSA\" onerror=\"this.remove()\" src=\"/en/~/media/images/flags/rsa.svg\"/>]"
      ]
     },
     "execution_count": 5,
     "metadata": {},
     "output_type": "execute_result"
    }
   ],
   "source": [
    "country = soup.find_all(\"div\", {\"class\": \"country-item\"})\n",
    "country = [item.find(\"img\", {\"alt\": True}) for item in country]\n",
    "\n",
    "country[0:5]"
   ]
  },
  {
   "cell_type": "code",
   "execution_count": 6,
   "metadata": {},
   "outputs": [],
   "source": [
    "country_list = []\n",
    "\n",
    "for item in country:\n",
    "    current_item = find_between(str(item), '\"', '\"' )\n",
    "    country_list.append(current_item)"
   ]
  },
  {
   "cell_type": "code",
   "execution_count": 7,
   "metadata": {},
   "outputs": [
    {
     "data": {
      "text/plain": [
       "['ESP', 'SUI', 'GER', 'ARG', 'RSA']"
      ]
     },
     "execution_count": 7,
     "metadata": {},
     "output_type": "execute_result"
    }
   ],
   "source": [
    "country_list[0:5]"
   ]
  },
  {
   "cell_type": "markdown",
   "metadata": {},
   "source": [
    "### Player"
   ]
  },
  {
   "cell_type": "code",
   "execution_count": 23,
   "metadata": {},
   "outputs": [],
   "source": [
    "player = soup.find_all(\"td\", {\"class\": \"player-cell\"})\n",
    "player = [item.get_text().strip() for item in player]"
   ]
  },
  {
   "cell_type": "markdown",
   "metadata": {},
   "source": [
    "### Age"
   ]
  },
  {
   "cell_type": "code",
   "execution_count": 10,
   "metadata": {},
   "outputs": [],
   "source": [
    "age = soup.find_all(\"td\", {\"class\": \"age-cell\"})\n",
    "age = [item.get_text().strip() for item in age]"
   ]
  },
  {
   "cell_type": "markdown",
   "metadata": {},
   "source": [
    "### Points "
   ]
  },
  {
   "cell_type": "code",
   "execution_count": 19,
   "metadata": {},
   "outputs": [],
   "source": [
    "points = soup.find_all(\"a\", {\"data-ga-label\": \"rankings-breakdown\"})\n",
    "points = [item.get_text().strip() for item in points]"
   ]
  },
  {
   "cell_type": "markdown",
   "metadata": {},
   "source": [
    "### Tournaments"
   ]
  },
  {
   "cell_type": "code",
   "execution_count": 11,
   "metadata": {},
   "outputs": [],
   "source": [
    "tournaments = soup.find_all(\"td\", {\"class\": \"tourn-cell\"})\n",
    "tournaments = [item.get_text().strip() for item in tournaments]"
   ]
  },
  {
   "cell_type": "markdown",
   "metadata": {},
   "source": [
    "### Point Droppings"
   ]
  },
  {
   "cell_type": "code",
   "execution_count": 12,
   "metadata": {},
   "outputs": [],
   "source": [
    "points_dropping = soup.find_all(\"td\", {\"class\": \"pts-cell\"})\n",
    "points_dropping = [item.get_text().strip() for item in points_dropping]"
   ]
  },
  {
   "cell_type": "markdown",
   "metadata": {},
   "source": [
    "### Next Best"
   ]
  },
  {
   "cell_type": "code",
   "execution_count": 13,
   "metadata": {},
   "outputs": [],
   "source": [
    "next_best = soup.find_all(\"td\", {\"class\": \"next-cell\"})\n",
    "next_best = [item.get_text().strip() for item in next_best]"
   ]
  },
  {
   "cell_type": "markdown",
   "metadata": {},
   "source": [
    "### Date"
   ]
  },
  {
   "cell_type": "code",
   "execution_count": 24,
   "metadata": {},
   "outputs": [
    {
     "data": {
      "text/plain": [
       "'2018.07.30'"
      ]
     },
     "execution_count": 24,
     "metadata": {},
     "output_type": "execute_result"
    }
   ],
   "source": [
    "date = soup.find_all(\"div\", {\"class\": \"dropdown-label\"})\n",
    "date = date[0].get_text().strip()\n",
    "date"
   ]
  },
  {
   "cell_type": "markdown",
   "metadata": {},
   "source": [
    "### Testing"
   ]
  },
  {
   "cell_type": "code",
   "execution_count": 25,
   "metadata": {},
   "outputs": [
    {
     "data": {
      "text/html": [
       "<div>\n",
       "<style scoped>\n",
       "    .dataframe tbody tr th:only-of-type {\n",
       "        vertical-align: middle;\n",
       "    }\n",
       "\n",
       "    .dataframe tbody tr th {\n",
       "        vertical-align: top;\n",
       "    }\n",
       "\n",
       "    .dataframe thead th {\n",
       "        text-align: right;\n",
       "    }\n",
       "</style>\n",
       "<table border=\"1\" class=\"dataframe\">\n",
       "  <thead>\n",
       "    <tr style=\"text-align: right;\">\n",
       "      <th></th>\n",
       "      <th>ranking</th>\n",
       "      <th>move</th>\n",
       "      <th>country</th>\n",
       "      <th>player</th>\n",
       "      <th>age</th>\n",
       "      <th>points</th>\n",
       "      <th>tournaments</th>\n",
       "      <th>points_dropping</th>\n",
       "      <th>next_best</th>\n",
       "      <th>date</th>\n",
       "    </tr>\n",
       "  </thead>\n",
       "  <tbody>\n",
       "    <tr>\n",
       "      <th>0</th>\n",
       "      <td>1</td>\n",
       "      <td></td>\n",
       "      <td>ESP</td>\n",
       "      <td>Rafael Nadal</td>\n",
       "      <td>32</td>\n",
       "      <td>9,310</td>\n",
       "      <td>14</td>\n",
       "      <td>0</td>\n",
       "      <td>0</td>\n",
       "      <td>2018.07.30</td>\n",
       "    </tr>\n",
       "    <tr>\n",
       "      <th>1</th>\n",
       "      <td>2</td>\n",
       "      <td></td>\n",
       "      <td>SUI</td>\n",
       "      <td>Roger Federer</td>\n",
       "      <td>36</td>\n",
       "      <td>7,080</td>\n",
       "      <td>18</td>\n",
       "      <td>0</td>\n",
       "      <td>0</td>\n",
       "      <td>2018.07.30</td>\n",
       "    </tr>\n",
       "    <tr>\n",
       "      <th>2</th>\n",
       "      <td>3</td>\n",
       "      <td></td>\n",
       "      <td>GER</td>\n",
       "      <td>Alexander Zverev</td>\n",
       "      <td>21</td>\n",
       "      <td>5,665</td>\n",
       "      <td>22</td>\n",
       "      <td>500</td>\n",
       "      <td>45</td>\n",
       "      <td>2018.07.30</td>\n",
       "    </tr>\n",
       "    <tr>\n",
       "      <th>3</th>\n",
       "      <td>4</td>\n",
       "      <td></td>\n",
       "      <td>ARG</td>\n",
       "      <td>Juan Martin del Potro</td>\n",
       "      <td>29</td>\n",
       "      <td>5,395</td>\n",
       "      <td>19</td>\n",
       "      <td>45</td>\n",
       "      <td>20</td>\n",
       "      <td>2018.07.30</td>\n",
       "    </tr>\n",
       "    <tr>\n",
       "      <th>4</th>\n",
       "      <td>5</td>\n",
       "      <td></td>\n",
       "      <td>RSA</td>\n",
       "      <td>Kevin Anderson</td>\n",
       "      <td>32</td>\n",
       "      <td>4,655</td>\n",
       "      <td>21</td>\n",
       "      <td>300</td>\n",
       "      <td>0</td>\n",
       "      <td>2018.07.30</td>\n",
       "    </tr>\n",
       "  </tbody>\n",
       "</table>\n",
       "</div>"
      ],
      "text/plain": [
       "  ranking move country                 player age points tournaments  \\\n",
       "0       1          ESP           Rafael Nadal  32  9,310          14   \n",
       "1       2          SUI          Roger Federer  36  7,080          18   \n",
       "2       3          GER       Alexander Zverev  21  5,665          22   \n",
       "3       4          ARG  Juan Martin del Potro  29  5,395          19   \n",
       "4       5          RSA         Kevin Anderson  32  4,655          21   \n",
       "\n",
       "  points_dropping next_best        date  \n",
       "0               0         0  2018.07.30  \n",
       "1               0         0  2018.07.30  \n",
       "2             500        45  2018.07.30  \n",
       "3              45        20  2018.07.30  \n",
       "4             300         0  2018.07.30  "
      ]
     },
     "execution_count": 25,
     "metadata": {},
     "output_type": "execute_result"
    }
   ],
   "source": [
    "df = pd.DataFrame({\n",
    "                    \"ranking\": ranking,\n",
    "                    \"move\": move,\n",
    "                    \"country\": country_list,\n",
    "                    \"player\": player,\n",
    "                    \"age\": age,\n",
    "                    \"points\": points,\n",
    "                    \"tournaments\": tournaments,\n",
    "                    \"points_dropping\": points_dropping,\n",
    "                    \"next_best\": next_best\n",
    "                })\n",
    "df[\"date\"] = date\n",
    "df.head()"
   ]
  },
  {
   "cell_type": "markdown",
   "metadata": {},
   "source": [
    "# Create Dataframe"
   ]
  },
  {
   "cell_type": "markdown",
   "metadata": {},
   "source": [
    "### Links"
   ]
  },
  {
   "cell_type": "code",
   "execution_count": 3,
   "metadata": {},
   "outputs": [
    {
     "data": {
      "text/plain": [
       "2111"
      ]
     },
     "execution_count": 3,
     "metadata": {},
     "output_type": "execute_result"
    }
   ],
   "source": [
    "drop_down = soup.find('div', {'class': 'main-content'}).find('ul',{'class': 'dropdown'})\n",
    "\n",
    "date_list=[]\n",
    "for i in range(1,len(drop_down.findAll('li'))):\n",
    "    date_list.append(drop_down.findAll('li')[i].get_text().strip().replace('.','-')) \n",
    "\n",
    "len(date_list)"
   ]
  },
  {
   "cell_type": "markdown",
   "metadata": {},
   "source": [
    "### Scraper testing"
   ]
  },
  {
   "cell_type": "code",
   "execution_count": 4,
   "metadata": {},
   "outputs": [
    {
     "data": {
      "text/html": [
       "<div>\n",
       "<style scoped>\n",
       "    .dataframe tbody tr th:only-of-type {\n",
       "        vertical-align: middle;\n",
       "    }\n",
       "\n",
       "    .dataframe tbody tr th {\n",
       "        vertical-align: top;\n",
       "    }\n",
       "\n",
       "    .dataframe thead th {\n",
       "        text-align: right;\n",
       "    }\n",
       "</style>\n",
       "<table border=\"1\" class=\"dataframe\">\n",
       "  <thead>\n",
       "    <tr style=\"text-align: right;\">\n",
       "      <th></th>\n",
       "      <th>ranking</th>\n",
       "      <th>move</th>\n",
       "      <th>country</th>\n",
       "      <th>player</th>\n",
       "      <th>age</th>\n",
       "      <th>points</th>\n",
       "      <th>tournaments</th>\n",
       "      <th>points_dropping</th>\n",
       "      <th>next_best</th>\n",
       "      <th>date</th>\n",
       "    </tr>\n",
       "  </thead>\n",
       "  <tbody>\n",
       "    <tr>\n",
       "      <th>0</th>\n",
       "      <td>1</td>\n",
       "      <td></td>\n",
       "      <td>ESP</td>\n",
       "      <td>Rafael Nadal</td>\n",
       "      <td>31</td>\n",
       "      <td>8,770</td>\n",
       "      <td>14</td>\n",
       "      <td>500</td>\n",
       "      <td>0</td>\n",
       "      <td>2018-04-23</td>\n",
       "    </tr>\n",
       "    <tr>\n",
       "      <th>1</th>\n",
       "      <td>2</td>\n",
       "      <td></td>\n",
       "      <td>SUI</td>\n",
       "      <td>Roger Federer</td>\n",
       "      <td>36</td>\n",
       "      <td>8,670</td>\n",
       "      <td>17</td>\n",
       "      <td>0</td>\n",
       "      <td>0</td>\n",
       "      <td>2018-04-23</td>\n",
       "    </tr>\n",
       "    <tr>\n",
       "      <th>2</th>\n",
       "      <td>3</td>\n",
       "      <td>1</td>\n",
       "      <td>GER</td>\n",
       "      <td>Alexander Zverev</td>\n",
       "      <td>21</td>\n",
       "      <td>5,195</td>\n",
       "      <td>24</td>\n",
       "      <td>0</td>\n",
       "      <td>0</td>\n",
       "      <td>2018-04-23</td>\n",
       "    </tr>\n",
       "    <tr>\n",
       "      <th>3</th>\n",
       "      <td>4</td>\n",
       "      <td>1</td>\n",
       "      <td>CRO</td>\n",
       "      <td>Marin Cilic</td>\n",
       "      <td>29</td>\n",
       "      <td>4,985</td>\n",
       "      <td>20</td>\n",
       "      <td>0</td>\n",
       "      <td>0</td>\n",
       "      <td>2018-04-23</td>\n",
       "    </tr>\n",
       "    <tr>\n",
       "      <th>4</th>\n",
       "      <td>5</td>\n",
       "      <td></td>\n",
       "      <td>BUL</td>\n",
       "      <td>Grigor Dimitrov</td>\n",
       "      <td>26</td>\n",
       "      <td>4,950</td>\n",
       "      <td>22</td>\n",
       "      <td>0</td>\n",
       "      <td>0</td>\n",
       "      <td>2018-04-23</td>\n",
       "    </tr>\n",
       "  </tbody>\n",
       "</table>\n",
       "</div>"
      ],
      "text/plain": [
       "  ranking move country            player age points tournaments  \\\n",
       "0       1          ESP      Rafael Nadal  31  8,770          14   \n",
       "1       2          SUI     Roger Federer  36  8,670          17   \n",
       "2       3    1     GER  Alexander Zverev  21  5,195          24   \n",
       "3       4    1     CRO       Marin Cilic  29  4,985          20   \n",
       "4       5          BUL   Grigor Dimitrov  26  4,950          22   \n",
       "\n",
       "  points_dropping next_best        date  \n",
       "0             500         0  2018-04-23  \n",
       "1               0         0  2018-04-23  \n",
       "2               0         0  2018-04-23  \n",
       "3               0         0  2018-04-23  \n",
       "4               0         0  2018-04-23  "
      ]
     },
     "execution_count": 4,
     "metadata": {},
     "output_type": "execute_result"
    }
   ],
   "source": [
    "urlpattern = \"http://www.atpworldtour.com/en/rankings/singles?rankDate={}&rankRange=1-100\"\n",
    "check = scrape('2018-04-23', urlpattern)\n",
    "check.head()"
   ]
  },
  {
   "cell_type": "code",
   "execution_count": 5,
   "metadata": {},
   "outputs": [],
   "source": [
    "columns = check.columns.values\n",
    "df = pd.DataFrame(columns=columns)"
   ]
  },
  {
   "cell_type": "code",
   "execution_count": 6,
   "metadata": {},
   "outputs": [
    {
     "name": "stderr",
     "output_type": "stream",
     "text": [
      "100%|████████████████████████████████████████████████████████████████████████████| 2111/2111 [1:01:46<00:00,  1.56s/it]\n"
     ]
    }
   ],
   "source": [
    "counter = 0\n",
    "\n",
    "for date in tqdm(date_list):\n",
    "    temp_df = scrape(date, urlpattern)\n",
    "    df = df.append(temp_df)\n",
    "    counter += 1"
   ]
  },
  {
   "cell_type": "code",
   "execution_count": 7,
   "metadata": {},
   "outputs": [
    {
     "data": {
      "text/plain": [
       "(202311, 10)"
      ]
     },
     "execution_count": 7,
     "metadata": {},
     "output_type": "execute_result"
    }
   ],
   "source": [
    "df.shape"
   ]
  },
  {
   "cell_type": "code",
   "execution_count": 12,
   "metadata": {},
   "outputs": [
    {
     "data": {
      "text/html": [
       "<div>\n",
       "<style scoped>\n",
       "    .dataframe tbody tr th:only-of-type {\n",
       "        vertical-align: middle;\n",
       "    }\n",
       "\n",
       "    .dataframe tbody tr th {\n",
       "        vertical-align: top;\n",
       "    }\n",
       "\n",
       "    .dataframe thead th {\n",
       "        text-align: right;\n",
       "    }\n",
       "</style>\n",
       "<table border=\"1\" class=\"dataframe\">\n",
       "  <thead>\n",
       "    <tr style=\"text-align: right;\">\n",
       "      <th></th>\n",
       "      <th>ranking</th>\n",
       "      <th>move</th>\n",
       "      <th>country</th>\n",
       "      <th>player</th>\n",
       "      <th>age</th>\n",
       "      <th>points</th>\n",
       "      <th>tournaments</th>\n",
       "      <th>points_dropping</th>\n",
       "      <th>next_best</th>\n",
       "      <th>date</th>\n",
       "    </tr>\n",
       "  </thead>\n",
       "  <tbody>\n",
       "    <tr>\n",
       "      <th>0</th>\n",
       "      <td>1</td>\n",
       "      <td></td>\n",
       "      <td>ESP</td>\n",
       "      <td>Rafael Nadal</td>\n",
       "      <td>33</td>\n",
       "      <td>9,985</td>\n",
       "      <td>17</td>\n",
       "      <td>0</td>\n",
       "      <td>0</td>\n",
       "      <td>2020-01-06</td>\n",
       "    </tr>\n",
       "    <tr>\n",
       "      <th>1</th>\n",
       "      <td>2</td>\n",
       "      <td></td>\n",
       "      <td>SRB</td>\n",
       "      <td>Novak Djokovic</td>\n",
       "      <td>32</td>\n",
       "      <td>9,055</td>\n",
       "      <td>16</td>\n",
       "      <td>0</td>\n",
       "      <td>0</td>\n",
       "      <td>2020-01-06</td>\n",
       "    </tr>\n",
       "    <tr>\n",
       "      <th>2</th>\n",
       "      <td>3</td>\n",
       "      <td></td>\n",
       "      <td>SUI</td>\n",
       "      <td>Roger Federer</td>\n",
       "      <td>38</td>\n",
       "      <td>6,590</td>\n",
       "      <td>17</td>\n",
       "      <td>0</td>\n",
       "      <td>0</td>\n",
       "      <td>2020-01-06</td>\n",
       "    </tr>\n",
       "    <tr>\n",
       "      <th>3</th>\n",
       "      <td>4</td>\n",
       "      <td></td>\n",
       "      <td>AUT</td>\n",
       "      <td>Dominic Thiem</td>\n",
       "      <td>26</td>\n",
       "      <td>5,825</td>\n",
       "      <td>21</td>\n",
       "      <td>0</td>\n",
       "      <td>0</td>\n",
       "      <td>2020-01-06</td>\n",
       "    </tr>\n",
       "    <tr>\n",
       "      <th>4</th>\n",
       "      <td>5</td>\n",
       "      <td></td>\n",
       "      <td>RUS</td>\n",
       "      <td>Daniil Medvedev</td>\n",
       "      <td>23</td>\n",
       "      <td>5,705</td>\n",
       "      <td>23</td>\n",
       "      <td>0</td>\n",
       "      <td>0</td>\n",
       "      <td>2020-01-06</td>\n",
       "    </tr>\n",
       "  </tbody>\n",
       "</table>\n",
       "</div>"
      ],
      "text/plain": [
       "  ranking move country           player age points tournaments  \\\n",
       "0       1          ESP     Rafael Nadal  33  9,985          17   \n",
       "1       2          SRB   Novak Djokovic  32  9,055          16   \n",
       "2       3          SUI    Roger Federer  38  6,590          17   \n",
       "3       4          AUT    Dominic Thiem  26  5,825          21   \n",
       "4       5          RUS  Daniil Medvedev  23  5,705          23   \n",
       "\n",
       "  points_dropping next_best        date  \n",
       "0               0         0  2020-01-06  \n",
       "1               0         0  2020-01-06  \n",
       "2               0         0  2020-01-06  \n",
       "3               0         0  2020-01-06  \n",
       "4               0         0  2020-01-06  "
      ]
     },
     "execution_count": 12,
     "metadata": {},
     "output_type": "execute_result"
    }
   ],
   "source": [
    "df = df.reset_index(drop=True)\n",
    "df.head()"
   ]
  },
  {
   "cell_type": "code",
   "execution_count": 13,
   "metadata": {},
   "outputs": [
    {
     "data": {
      "text/html": [
       "<div>\n",
       "<style scoped>\n",
       "    .dataframe tbody tr th:only-of-type {\n",
       "        vertical-align: middle;\n",
       "    }\n",
       "\n",
       "    .dataframe tbody tr th {\n",
       "        vertical-align: top;\n",
       "    }\n",
       "\n",
       "    .dataframe thead th {\n",
       "        text-align: right;\n",
       "    }\n",
       "</style>\n",
       "<table border=\"1\" class=\"dataframe\">\n",
       "  <thead>\n",
       "    <tr style=\"text-align: right;\">\n",
       "      <th></th>\n",
       "      <th>ranking</th>\n",
       "      <th>move</th>\n",
       "      <th>country</th>\n",
       "      <th>player</th>\n",
       "      <th>age</th>\n",
       "      <th>points</th>\n",
       "      <th>tournaments</th>\n",
       "      <th>points_dropping</th>\n",
       "      <th>next_best</th>\n",
       "      <th>date</th>\n",
       "    </tr>\n",
       "  </thead>\n",
       "  <tbody>\n",
       "    <tr>\n",
       "      <th>202306</th>\n",
       "      <td>96</td>\n",
       "      <td></td>\n",
       "      <td>CZE</td>\n",
       "      <td>Vladimir Zednik</td>\n",
       "      <td>26</td>\n",
       "      <td>0</td>\n",
       "      <td>0</td>\n",
       "      <td>0</td>\n",
       "      <td>0</td>\n",
       "      <td>1973-08-23</td>\n",
       "    </tr>\n",
       "    <tr>\n",
       "      <th>202307</th>\n",
       "      <td>97</td>\n",
       "      <td></td>\n",
       "      <td>CHI</td>\n",
       "      <td>Patricio Cornejo</td>\n",
       "      <td>29</td>\n",
       "      <td>0</td>\n",
       "      <td>0</td>\n",
       "      <td>0</td>\n",
       "      <td>0</td>\n",
       "      <td>1973-08-23</td>\n",
       "    </tr>\n",
       "    <tr>\n",
       "      <th>202308</th>\n",
       "      <td>98</td>\n",
       "      <td></td>\n",
       "      <td>HUN</td>\n",
       "      <td>Szabolcz Baranyi</td>\n",
       "      <td>29</td>\n",
       "      <td>0</td>\n",
       "      <td>0</td>\n",
       "      <td>0</td>\n",
       "      <td>0</td>\n",
       "      <td>1973-08-23</td>\n",
       "    </tr>\n",
       "    <tr>\n",
       "      <th>202309</th>\n",
       "      <td>98</td>\n",
       "      <td></td>\n",
       "      <td>CRO</td>\n",
       "      <td>Zeljko Franulovic</td>\n",
       "      <td>26</td>\n",
       "      <td>0</td>\n",
       "      <td>0</td>\n",
       "      <td>0</td>\n",
       "      <td>0</td>\n",
       "      <td>1973-08-23</td>\n",
       "    </tr>\n",
       "    <tr>\n",
       "      <th>202310</th>\n",
       "      <td>100</td>\n",
       "      <td></td>\n",
       "      <td>AUT</td>\n",
       "      <td>Hans Kary</td>\n",
       "      <td>24</td>\n",
       "      <td>0</td>\n",
       "      <td>0</td>\n",
       "      <td>0</td>\n",
       "      <td>0</td>\n",
       "      <td>1973-08-23</td>\n",
       "    </tr>\n",
       "  </tbody>\n",
       "</table>\n",
       "</div>"
      ],
      "text/plain": [
       "       ranking move country             player age points tournaments  \\\n",
       "202306      96          CZE    Vladimir Zednik  26      0           0   \n",
       "202307      97          CHI   Patricio Cornejo  29      0           0   \n",
       "202308      98          HUN   Szabolcz Baranyi  29      0           0   \n",
       "202309      98          CRO  Zeljko Franulovic  26      0           0   \n",
       "202310     100          AUT          Hans Kary  24      0           0   \n",
       "\n",
       "       points_dropping next_best        date  \n",
       "202306               0         0  1973-08-23  \n",
       "202307               0         0  1973-08-23  \n",
       "202308               0         0  1973-08-23  \n",
       "202309               0         0  1973-08-23  \n",
       "202310               0         0  1973-08-23  "
      ]
     },
     "execution_count": 13,
     "metadata": {},
     "output_type": "execute_result"
    }
   ],
   "source": [
    "df.tail()"
   ]
  },
  {
   "cell_type": "code",
   "execution_count": 55,
   "metadata": {},
   "outputs": [
    {
     "data": {
      "text/html": [
       "<div>\n",
       "<style scoped>\n",
       "    .dataframe tbody tr th:only-of-type {\n",
       "        vertical-align: middle;\n",
       "    }\n",
       "\n",
       "    .dataframe tbody tr th {\n",
       "        vertical-align: top;\n",
       "    }\n",
       "\n",
       "    .dataframe thead th {\n",
       "        text-align: right;\n",
       "    }\n",
       "</style>\n",
       "<table border=\"1\" class=\"dataframe\">\n",
       "  <thead>\n",
       "    <tr style=\"text-align: right;\">\n",
       "      <th></th>\n",
       "      <th>ranking</th>\n",
       "      <th>move</th>\n",
       "      <th>country</th>\n",
       "      <th>player</th>\n",
       "      <th>age</th>\n",
       "      <th>points</th>\n",
       "      <th>tournaments</th>\n",
       "      <th>points_dropping</th>\n",
       "      <th>next_best</th>\n",
       "      <th>date</th>\n",
       "    </tr>\n",
       "  </thead>\n",
       "  <tbody>\n",
       "    <tr>\n",
       "      <th>0</th>\n",
       "      <td>1</td>\n",
       "      <td>NaN</td>\n",
       "      <td>ESP</td>\n",
       "      <td>Rafael Nadal</td>\n",
       "      <td>33.0</td>\n",
       "      <td>9,985</td>\n",
       "      <td>17</td>\n",
       "      <td>0</td>\n",
       "      <td>0</td>\n",
       "      <td>2020-01-06</td>\n",
       "    </tr>\n",
       "    <tr>\n",
       "      <th>1</th>\n",
       "      <td>2</td>\n",
       "      <td>NaN</td>\n",
       "      <td>SRB</td>\n",
       "      <td>Novak Djokovic</td>\n",
       "      <td>32.0</td>\n",
       "      <td>9,055</td>\n",
       "      <td>16</td>\n",
       "      <td>0</td>\n",
       "      <td>0</td>\n",
       "      <td>2020-01-06</td>\n",
       "    </tr>\n",
       "    <tr>\n",
       "      <th>2</th>\n",
       "      <td>3</td>\n",
       "      <td>NaN</td>\n",
       "      <td>SUI</td>\n",
       "      <td>Roger Federer</td>\n",
       "      <td>38.0</td>\n",
       "      <td>6,590</td>\n",
       "      <td>17</td>\n",
       "      <td>0</td>\n",
       "      <td>0</td>\n",
       "      <td>2020-01-06</td>\n",
       "    </tr>\n",
       "    <tr>\n",
       "      <th>3</th>\n",
       "      <td>4</td>\n",
       "      <td>NaN</td>\n",
       "      <td>AUT</td>\n",
       "      <td>Dominic Thiem</td>\n",
       "      <td>26.0</td>\n",
       "      <td>5,825</td>\n",
       "      <td>21</td>\n",
       "      <td>0</td>\n",
       "      <td>0</td>\n",
       "      <td>2020-01-06</td>\n",
       "    </tr>\n",
       "    <tr>\n",
       "      <th>4</th>\n",
       "      <td>5</td>\n",
       "      <td>NaN</td>\n",
       "      <td>RUS</td>\n",
       "      <td>Daniil Medvedev</td>\n",
       "      <td>23.0</td>\n",
       "      <td>5,705</td>\n",
       "      <td>23</td>\n",
       "      <td>0</td>\n",
       "      <td>0</td>\n",
       "      <td>2020-01-06</td>\n",
       "    </tr>\n",
       "  </tbody>\n",
       "</table>\n",
       "</div>"
      ],
      "text/plain": [
       "  ranking  move country           player   age points  tournaments  \\\n",
       "0       1   NaN     ESP     Rafael Nadal  33.0  9,985           17   \n",
       "1       2   NaN     SRB   Novak Djokovic  32.0  9,055           16   \n",
       "2       3   NaN     SUI    Roger Federer  38.0  6,590           17   \n",
       "3       4   NaN     AUT    Dominic Thiem  26.0  5,825           21   \n",
       "4       5   NaN     RUS  Daniil Medvedev  23.0  5,705           23   \n",
       "\n",
       "  points_dropping  next_best        date  \n",
       "0               0          0  2020-01-06  \n",
       "1               0          0  2020-01-06  \n",
       "2               0          0  2020-01-06  \n",
       "3               0          0  2020-01-06  \n",
       "4               0          0  2020-01-06  "
      ]
     },
     "execution_count": 55,
     "metadata": {},
     "output_type": "execute_result"
    }
   ],
   "source": [
    "df = pd.read_csv('player_rankings.csv', sep=\",\", encoding='utf8', engine='python')\n",
    "df.head()"
   ]
  },
  {
   "cell_type": "markdown",
   "metadata": {},
   "source": [
    "### Write to csv"
   ]
  },
  {
   "cell_type": "code",
   "execution_count": 14,
   "metadata": {},
   "outputs": [],
   "source": [
    "df.to_csv('player_rankings.csv', encoding='utf-8', index=False)"
   ]
  },
  {
   "cell_type": "markdown",
   "metadata": {},
   "source": [
    "# Dataframe Cleaning"
   ]
  },
  {
   "cell_type": "code",
   "execution_count": 56,
   "metadata": {},
   "outputs": [
    {
     "name": "stdout",
     "output_type": "stream",
     "text": [
      "<class 'pandas.core.frame.DataFrame'>\n",
      "RangeIndex: 202311 entries, 0 to 202310\n",
      "Data columns (total 10 columns):\n",
      "ranking            202311 non-null object\n",
      "move               120751 non-null float64\n",
      "country            202311 non-null object\n",
      "player             202311 non-null object\n",
      "age                202304 non-null float64\n",
      "points             202311 non-null object\n",
      "tournaments        202311 non-null int64\n",
      "points_dropping    202311 non-null object\n",
      "next_best          202311 non-null int64\n",
      "date               202311 non-null object\n",
      "dtypes: float64(2), int64(2), object(6)\n",
      "memory usage: 15.4+ MB\n"
     ]
    }
   ],
   "source": [
    "df.info()"
   ]
  },
  {
   "cell_type": "markdown",
   "metadata": {},
   "source": [
    "### Convert columns into int"
   ]
  },
  {
   "cell_type": "code",
   "execution_count": 57,
   "metadata": {},
   "outputs": [],
   "source": [
    "df['points'] = df['points'].str.replace(r'\\W', '')"
   ]
  },
  {
   "cell_type": "code",
   "execution_count": 62,
   "metadata": {},
   "outputs": [],
   "source": [
    "df['points_dropping'] = df['points_dropping'].str.replace(r'\\W', '')"
   ]
  },
  {
   "cell_type": "code",
   "execution_count": 64,
   "metadata": {},
   "outputs": [],
   "source": [
    "# convert string to integer\n",
    "int_cols = [i for i in df.columns if i not in [\"country\",\"player\", \"date\", \"ranking\"]]\n",
    "for col in int_cols:\n",
    "    df[col]=pd.to_numeric(df[col])"
   ]
  },
  {
   "cell_type": "code",
   "execution_count": 71,
   "metadata": {},
   "outputs": [],
   "source": [
    "# convert to datetime\n",
    "df['date'] = pd.to_datetime(df['date'])"
   ]
  },
  {
   "cell_type": "code",
   "execution_count": 75,
   "metadata": {},
   "outputs": [
    {
     "data": {
      "text/plain": [
       "array(['1', '2', '3', '4', '5', '6', '7', '8', '9', '10', '11', '12',\n",
       "       '13', '14', '15', '16', '17', '18', '19', '20', '21', '22', '23',\n",
       "       '24', '25', '26', '27', '28', '29', '30', '31', '32', '33', '34',\n",
       "       '35', '36', '37', '38', '39', '40', '41', '42', '43', '44', '45',\n",
       "       '46', '47', '48', '49', '50', '51', '52', '53', '54', '55', '56',\n",
       "       '57', '58', '59', '60', '61', '62', '63', '64', '65', '66', '67',\n",
       "       '68', '69', '70', '71', '72', '73', '74', '75', '76', '77', '78',\n",
       "       '79', '80', '81', '82', '83', '84', '85', '86', '87', '88', '89',\n",
       "       '90', '91', '92', '93', '94', '95', '96', '97', '98', '99', '100',\n",
       "       '65T', '45T', '68T', '94T', '97T', '14T', '60T', '70T', '87T',\n",
       "       '92T', '61T', '95T', '98T', '62T', '81T', '99T', '67T', '100T',\n",
       "       '85T', '91T', '58T', '90T', '43T', '54T', '59T', '96T', '66T',\n",
       "       '64T', '84T', '88T', '13T', '29T', '63T', '53T', '73T', '78T',\n",
       "       '38T', '93T', '51T', '72T', '27T', '40T', '26T', '52T', '89T',\n",
       "       '28T', '71T', '22T', '23T', '20T', '24T', '48T', '75T', '16T',\n",
       "       '47T', '83T', '69T', '57T', '80T', '31T', '44T', '74T', '86T',\n",
       "       '56T', '79T', '50T', '42T', '55T', '77T', '41T', '37T', '46T',\n",
       "       '82T', '49T', '21T', '35T', '9T', '76T', '19T', '39T', '34T',\n",
       "       '30T', '25T', '36T', '33T', '18T', '15T', '2T'], dtype=object)"
      ]
     },
     "execution_count": 75,
     "metadata": {},
     "output_type": "execute_result"
    }
   ],
   "source": [
    "df.ranking.unique()"
   ]
  },
  {
   "cell_type": "code",
   "execution_count": 98,
   "metadata": {},
   "outputs": [
    {
     "data": {
      "text/plain": [
       "['move', 'age']"
      ]
     },
     "execution_count": 98,
     "metadata": {},
     "output_type": "execute_result"
    }
   ],
   "source": [
    "df.columns[df.isna().any()].tolist()"
   ]
  },
  {
   "cell_type": "code",
   "execution_count": 100,
   "metadata": {},
   "outputs": [],
   "source": [
    "### fill na with 0\n",
    "df = df.fillna(0)"
   ]
  },
  {
   "cell_type": "markdown",
   "metadata": {},
   "source": [
    "# Data Analysis"
   ]
  },
  {
   "cell_type": "code",
   "execution_count": 101,
   "metadata": {},
   "outputs": [
    {
     "name": "stdout",
     "output_type": "stream",
     "text": [
      "<class 'pandas.core.frame.DataFrame'>\n",
      "RangeIndex: 202311 entries, 0 to 202310\n",
      "Data columns (total 10 columns):\n",
      "ranking            202311 non-null object\n",
      "move               202311 non-null float64\n",
      "country            202311 non-null object\n",
      "player             202311 non-null object\n",
      "age                202311 non-null float64\n",
      "points             202311 non-null int64\n",
      "tournaments        202311 non-null int64\n",
      "points_dropping    202311 non-null int64\n",
      "next_best          202311 non-null int64\n",
      "date               202311 non-null datetime64[ns]\n",
      "dtypes: datetime64[ns](1), float64(2), int64(4), object(3)\n",
      "memory usage: 15.4+ MB\n"
     ]
    }
   ],
   "source": [
    "df.info()"
   ]
  },
  {
   "cell_type": "markdown",
   "metadata": {},
   "source": [
    "### How long has Roger Federer been in the top 5?"
   ]
  },
  {
   "cell_type": "code",
   "execution_count": 102,
   "metadata": {},
   "outputs": [
    {
     "name": "stdout",
     "output_type": "stream",
     "text": [
      "(1003, 10)\n"
     ]
    },
    {
     "data": {
      "text/html": [
       "<div>\n",
       "<style scoped>\n",
       "    .dataframe tbody tr th:only-of-type {\n",
       "        vertical-align: middle;\n",
       "    }\n",
       "\n",
       "    .dataframe tbody tr th {\n",
       "        vertical-align: top;\n",
       "    }\n",
       "\n",
       "    .dataframe thead th {\n",
       "        text-align: right;\n",
       "    }\n",
       "</style>\n",
       "<table border=\"1\" class=\"dataframe\">\n",
       "  <thead>\n",
       "    <tr style=\"text-align: right;\">\n",
       "      <th></th>\n",
       "      <th>ranking</th>\n",
       "      <th>move</th>\n",
       "      <th>country</th>\n",
       "      <th>player</th>\n",
       "      <th>age</th>\n",
       "      <th>points</th>\n",
       "      <th>tournaments</th>\n",
       "      <th>points_dropping</th>\n",
       "      <th>next_best</th>\n",
       "      <th>date</th>\n",
       "    </tr>\n",
       "  </thead>\n",
       "  <tbody>\n",
       "    <tr>\n",
       "      <th>2</th>\n",
       "      <td>3</td>\n",
       "      <td>0.0</td>\n",
       "      <td>SUI</td>\n",
       "      <td>Roger Federer</td>\n",
       "      <td>38.0</td>\n",
       "      <td>6590</td>\n",
       "      <td>17</td>\n",
       "      <td>0</td>\n",
       "      <td>0</td>\n",
       "      <td>2020-01-06</td>\n",
       "    </tr>\n",
       "    <tr>\n",
       "      <th>102</th>\n",
       "      <td>3</td>\n",
       "      <td>0.0</td>\n",
       "      <td>SUI</td>\n",
       "      <td>Roger Federer</td>\n",
       "      <td>38.0</td>\n",
       "      <td>6590</td>\n",
       "      <td>17</td>\n",
       "      <td>0</td>\n",
       "      <td>0</td>\n",
       "      <td>2019-12-30</td>\n",
       "    </tr>\n",
       "    <tr>\n",
       "      <th>202</th>\n",
       "      <td>3</td>\n",
       "      <td>0.0</td>\n",
       "      <td>SUI</td>\n",
       "      <td>Roger Federer</td>\n",
       "      <td>38.0</td>\n",
       "      <td>6590</td>\n",
       "      <td>17</td>\n",
       "      <td>0</td>\n",
       "      <td>0</td>\n",
       "      <td>2019-12-23</td>\n",
       "    </tr>\n",
       "    <tr>\n",
       "      <th>302</th>\n",
       "      <td>3</td>\n",
       "      <td>0.0</td>\n",
       "      <td>SUI</td>\n",
       "      <td>Roger Federer</td>\n",
       "      <td>38.0</td>\n",
       "      <td>6590</td>\n",
       "      <td>17</td>\n",
       "      <td>0</td>\n",
       "      <td>0</td>\n",
       "      <td>2019-12-16</td>\n",
       "    </tr>\n",
       "    <tr>\n",
       "      <th>402</th>\n",
       "      <td>3</td>\n",
       "      <td>0.0</td>\n",
       "      <td>SUI</td>\n",
       "      <td>Roger Federer</td>\n",
       "      <td>38.0</td>\n",
       "      <td>6590</td>\n",
       "      <td>17</td>\n",
       "      <td>0</td>\n",
       "      <td>0</td>\n",
       "      <td>2019-12-09</td>\n",
       "    </tr>\n",
       "  </tbody>\n",
       "</table>\n",
       "</div>"
      ],
      "text/plain": [
       "    ranking  move country         player   age  points  tournaments  \\\n",
       "2         3   0.0     SUI  Roger Federer  38.0    6590           17   \n",
       "102       3   0.0     SUI  Roger Federer  38.0    6590           17   \n",
       "202       3   0.0     SUI  Roger Federer  38.0    6590           17   \n",
       "302       3   0.0     SUI  Roger Federer  38.0    6590           17   \n",
       "402       3   0.0     SUI  Roger Federer  38.0    6590           17   \n",
       "\n",
       "     points_dropping  next_best       date  \n",
       "2                  0          0 2020-01-06  \n",
       "102                0          0 2019-12-30  \n",
       "202                0          0 2019-12-23  \n",
       "302                0          0 2019-12-16  \n",
       "402                0          0 2019-12-09  "
      ]
     },
     "execution_count": 102,
     "metadata": {},
     "output_type": "execute_result"
    }
   ],
   "source": [
    "roger = df[df[\"player\"].str.contains(\"Federer\")]\n",
    "print(roger.shape)\n",
    "roger.head()"
   ]
  },
  {
   "cell_type": "code",
   "execution_count": 103,
   "metadata": {},
   "outputs": [
    {
     "name": "stdout",
     "output_type": "stream",
     "text": [
      "773 Weeks\n"
     ]
    }
   ],
   "source": [
    "roger[\"ranking\"] = roger[\"ranking\"].astype(int)\n",
    "top5 = roger[roger[\"ranking\"] <= 5]\n",
    "print('%d Weeks' %len(top5))"
   ]
  },
  {
   "cell_type": "markdown",
   "metadata": {},
   "source": [
    "### Who’s the youngest player ever to reach the top 10?"
   ]
  },
  {
   "cell_type": "code",
   "execution_count": 104,
   "metadata": {},
   "outputs": [
    {
     "data": {
      "text/html": [
       "<div>\n",
       "<style scoped>\n",
       "    .dataframe tbody tr th:only-of-type {\n",
       "        vertical-align: middle;\n",
       "    }\n",
       "\n",
       "    .dataframe tbody tr th {\n",
       "        vertical-align: top;\n",
       "    }\n",
       "\n",
       "    .dataframe thead th {\n",
       "        text-align: right;\n",
       "    }\n",
       "</style>\n",
       "<table border=\"1\" class=\"dataframe\">\n",
       "  <thead>\n",
       "    <tr style=\"text-align: right;\">\n",
       "      <th></th>\n",
       "      <th>ranking</th>\n",
       "      <th>move</th>\n",
       "      <th>country</th>\n",
       "      <th>player</th>\n",
       "      <th>age</th>\n",
       "      <th>points</th>\n",
       "      <th>tournaments</th>\n",
       "      <th>points_dropping</th>\n",
       "      <th>next_best</th>\n",
       "      <th>date</th>\n",
       "    </tr>\n",
       "  </thead>\n",
       "  <tbody>\n",
       "    <tr>\n",
       "      <th>0</th>\n",
       "      <td>1</td>\n",
       "      <td>0.0</td>\n",
       "      <td>ESP</td>\n",
       "      <td>Rafael Nadal</td>\n",
       "      <td>33.0</td>\n",
       "      <td>9985</td>\n",
       "      <td>17</td>\n",
       "      <td>0</td>\n",
       "      <td>0</td>\n",
       "      <td>2020-01-06</td>\n",
       "    </tr>\n",
       "    <tr>\n",
       "      <th>1</th>\n",
       "      <td>2</td>\n",
       "      <td>0.0</td>\n",
       "      <td>SRB</td>\n",
       "      <td>Novak Djokovic</td>\n",
       "      <td>32.0</td>\n",
       "      <td>9055</td>\n",
       "      <td>16</td>\n",
       "      <td>0</td>\n",
       "      <td>0</td>\n",
       "      <td>2020-01-06</td>\n",
       "    </tr>\n",
       "    <tr>\n",
       "      <th>2</th>\n",
       "      <td>3</td>\n",
       "      <td>0.0</td>\n",
       "      <td>SUI</td>\n",
       "      <td>Roger Federer</td>\n",
       "      <td>38.0</td>\n",
       "      <td>6590</td>\n",
       "      <td>17</td>\n",
       "      <td>0</td>\n",
       "      <td>0</td>\n",
       "      <td>2020-01-06</td>\n",
       "    </tr>\n",
       "    <tr>\n",
       "      <th>3</th>\n",
       "      <td>4</td>\n",
       "      <td>0.0</td>\n",
       "      <td>AUT</td>\n",
       "      <td>Dominic Thiem</td>\n",
       "      <td>26.0</td>\n",
       "      <td>5825</td>\n",
       "      <td>21</td>\n",
       "      <td>0</td>\n",
       "      <td>0</td>\n",
       "      <td>2020-01-06</td>\n",
       "    </tr>\n",
       "    <tr>\n",
       "      <th>4</th>\n",
       "      <td>5</td>\n",
       "      <td>0.0</td>\n",
       "      <td>RUS</td>\n",
       "      <td>Daniil Medvedev</td>\n",
       "      <td>23.0</td>\n",
       "      <td>5705</td>\n",
       "      <td>23</td>\n",
       "      <td>0</td>\n",
       "      <td>0</td>\n",
       "      <td>2020-01-06</td>\n",
       "    </tr>\n",
       "  </tbody>\n",
       "</table>\n",
       "</div>"
      ],
      "text/plain": [
       "   ranking  move country           player   age  points  tournaments  \\\n",
       "0        1   0.0     ESP     Rafael Nadal  33.0    9985           17   \n",
       "1        2   0.0     SRB   Novak Djokovic  32.0    9055           16   \n",
       "2        3   0.0     SUI    Roger Federer  38.0    6590           17   \n",
       "3        4   0.0     AUT    Dominic Thiem  26.0    5825           21   \n",
       "4        5   0.0     RUS  Daniil Medvedev  23.0    5705           23   \n",
       "\n",
       "   points_dropping  next_best       date  \n",
       "0                0          0 2020-01-06  \n",
       "1                0          0 2020-01-06  \n",
       "2                0          0 2020-01-06  \n",
       "3                0          0 2020-01-06  \n",
       "4                0          0 2020-01-06  "
      ]
     },
     "execution_count": 104,
     "metadata": {},
     "output_type": "execute_result"
    }
   ],
   "source": [
    "youngest_df = df.copy()\n",
    "youngest_df['ranking'] = youngest_df['ranking'].str.replace('T','').astype(int)\n",
    "youngest_df.head()"
   ]
  },
  {
   "cell_type": "code",
   "execution_count": 109,
   "metadata": {},
   "outputs": [
    {
     "name": "stdout",
     "output_type": "stream",
     "text": [
      "(72, 10)\n"
     ]
    },
    {
     "data": {
      "text/html": [
       "<div>\n",
       "<style scoped>\n",
       "    .dataframe tbody tr th:only-of-type {\n",
       "        vertical-align: middle;\n",
       "    }\n",
       "\n",
       "    .dataframe tbody tr th {\n",
       "        vertical-align: top;\n",
       "    }\n",
       "\n",
       "    .dataframe thead th {\n",
       "        text-align: right;\n",
       "    }\n",
       "</style>\n",
       "<table border=\"1\" class=\"dataframe\">\n",
       "  <thead>\n",
       "    <tr style=\"text-align: right;\">\n",
       "      <th></th>\n",
       "      <th>ranking</th>\n",
       "      <th>move</th>\n",
       "      <th>country</th>\n",
       "      <th>player</th>\n",
       "      <th>age</th>\n",
       "      <th>points</th>\n",
       "      <th>tournaments</th>\n",
       "      <th>points_dropping</th>\n",
       "      <th>next_best</th>\n",
       "      <th>date</th>\n",
       "    </tr>\n",
       "  </thead>\n",
       "  <tbody>\n",
       "    <tr>\n",
       "      <th>150198</th>\n",
       "      <td>9</td>\n",
       "      <td>3.0</td>\n",
       "      <td>USA</td>\n",
       "      <td>Michael Chang</td>\n",
       "      <td>17.0</td>\n",
       "      <td>0</td>\n",
       "      <td>0</td>\n",
       "      <td>0</td>\n",
       "      <td>0</td>\n",
       "      <td>1990-02-19</td>\n",
       "    </tr>\n",
       "    <tr>\n",
       "      <th>150295</th>\n",
       "      <td>6</td>\n",
       "      <td>1.0</td>\n",
       "      <td>USA</td>\n",
       "      <td>Michael Chang</td>\n",
       "      <td>17.0</td>\n",
       "      <td>0</td>\n",
       "      <td>0</td>\n",
       "      <td>0</td>\n",
       "      <td>0</td>\n",
       "      <td>1990-02-12</td>\n",
       "    </tr>\n",
       "    <tr>\n",
       "      <th>150394</th>\n",
       "      <td>5</td>\n",
       "      <td>0.0</td>\n",
       "      <td>USA</td>\n",
       "      <td>Michael Chang</td>\n",
       "      <td>17.0</td>\n",
       "      <td>0</td>\n",
       "      <td>0</td>\n",
       "      <td>0</td>\n",
       "      <td>0</td>\n",
       "      <td>1990-02-05</td>\n",
       "    </tr>\n",
       "    <tr>\n",
       "      <th>150494</th>\n",
       "      <td>5</td>\n",
       "      <td>1.0</td>\n",
       "      <td>USA</td>\n",
       "      <td>Michael Chang</td>\n",
       "      <td>17.0</td>\n",
       "      <td>0</td>\n",
       "      <td>0</td>\n",
       "      <td>0</td>\n",
       "      <td>0</td>\n",
       "      <td>1990-01-29</td>\n",
       "    </tr>\n",
       "    <tr>\n",
       "      <th>150595</th>\n",
       "      <td>6</td>\n",
       "      <td>0.0</td>\n",
       "      <td>USA</td>\n",
       "      <td>Michael Chang</td>\n",
       "      <td>17.0</td>\n",
       "      <td>0</td>\n",
       "      <td>0</td>\n",
       "      <td>0</td>\n",
       "      <td>0</td>\n",
       "      <td>1990-01-22</td>\n",
       "    </tr>\n",
       "  </tbody>\n",
       "</table>\n",
       "</div>"
      ],
      "text/plain": [
       "        ranking  move country         player   age  points  tournaments  \\\n",
       "150198        9   3.0     USA  Michael Chang  17.0       0            0   \n",
       "150295        6   1.0     USA  Michael Chang  17.0       0            0   \n",
       "150394        5   0.0     USA  Michael Chang  17.0       0            0   \n",
       "150494        5   1.0     USA  Michael Chang  17.0       0            0   \n",
       "150595        6   0.0     USA  Michael Chang  17.0       0            0   \n",
       "\n",
       "        points_dropping  next_best       date  \n",
       "150198                0          0 1990-02-19  \n",
       "150295                0          0 1990-02-12  \n",
       "150394                0          0 1990-02-05  \n",
       "150494                0          0 1990-01-29  \n",
       "150595                0          0 1990-01-22  "
      ]
     },
     "execution_count": 109,
     "metadata": {},
     "output_type": "execute_result"
    }
   ],
   "source": [
    "yrankings = youngest_df[(youngest_df[\"ranking\"] <= 10)]\n",
    "yrankings = yrankings[(yrankings[\"age\"] == min(yrankings[\"age\"]))]\n",
    "print(yrankings.shape)\n",
    "yrankings.head()"
   ]
  },
  {
   "cell_type": "code",
   "execution_count": 110,
   "metadata": {},
   "outputs": [
    {
     "data": {
      "text/html": [
       "<div>\n",
       "<style scoped>\n",
       "    .dataframe tbody tr th:only-of-type {\n",
       "        vertical-align: middle;\n",
       "    }\n",
       "\n",
       "    .dataframe tbody tr th {\n",
       "        vertical-align: top;\n",
       "    }\n",
       "\n",
       "    .dataframe thead th {\n",
       "        text-align: right;\n",
       "    }\n",
       "</style>\n",
       "<table border=\"1\" class=\"dataframe\">\n",
       "  <thead>\n",
       "    <tr style=\"text-align: right;\">\n",
       "      <th></th>\n",
       "      <th>player</th>\n",
       "      <th>date</th>\n",
       "      <th>age</th>\n",
       "    </tr>\n",
       "  </thead>\n",
       "  <tbody>\n",
       "    <tr>\n",
       "      <th>1</th>\n",
       "      <td>Bjorn Borg</td>\n",
       "      <td>1974-06-03</td>\n",
       "      <td>17.0</td>\n",
       "    </tr>\n",
       "    <tr>\n",
       "      <th>3</th>\n",
       "      <td>Mats Wilander</td>\n",
       "      <td>1982-07-12</td>\n",
       "      <td>17.0</td>\n",
       "    </tr>\n",
       "    <tr>\n",
       "      <th>0</th>\n",
       "      <td>Aaron Krickstein</td>\n",
       "      <td>1984-08-13</td>\n",
       "      <td>17.0</td>\n",
       "    </tr>\n",
       "    <tr>\n",
       "      <th>2</th>\n",
       "      <td>Boris Becker</td>\n",
       "      <td>1985-07-08</td>\n",
       "      <td>17.0</td>\n",
       "    </tr>\n",
       "    <tr>\n",
       "      <th>4</th>\n",
       "      <td>Michael Chang</td>\n",
       "      <td>1989-06-12</td>\n",
       "      <td>17.0</td>\n",
       "    </tr>\n",
       "  </tbody>\n",
       "</table>\n",
       "</div>"
      ],
      "text/plain": [
       "             player       date   age\n",
       "1        Bjorn Borg 1974-06-03  17.0\n",
       "3     Mats Wilander 1982-07-12  17.0\n",
       "0  Aaron Krickstein 1984-08-13  17.0\n",
       "2      Boris Becker 1985-07-08  17.0\n",
       "4     Michael Chang 1989-06-12  17.0"
      ]
     },
     "execution_count": 110,
     "metadata": {},
     "output_type": "execute_result"
    }
   ],
   "source": [
    "yrankings.groupby(\"player\").agg({\"date\": \"min\", \"age\": \"min\"}).reset_index().sort_values(\"date\")"
   ]
  },
  {
   "cell_type": "markdown",
   "metadata": {},
   "source": [
    "### What’s the most catastrophic ranking drop a player ever suffered from one year to another?"
   ]
  },
  {
   "cell_type": "code",
   "execution_count": 117,
   "metadata": {},
   "outputs": [
    {
     "data": {
      "text/html": [
       "<div>\n",
       "<style scoped>\n",
       "    .dataframe tbody tr th:only-of-type {\n",
       "        vertical-align: middle;\n",
       "    }\n",
       "\n",
       "    .dataframe tbody tr th {\n",
       "        vertical-align: top;\n",
       "    }\n",
       "\n",
       "    .dataframe thead th {\n",
       "        text-align: right;\n",
       "    }\n",
       "</style>\n",
       "<table border=\"1\" class=\"dataframe\">\n",
       "  <thead>\n",
       "    <tr style=\"text-align: right;\">\n",
       "      <th></th>\n",
       "      <th>ranking</th>\n",
       "      <th>move</th>\n",
       "      <th>country</th>\n",
       "      <th>player</th>\n",
       "      <th>age</th>\n",
       "      <th>points</th>\n",
       "      <th>tournaments</th>\n",
       "      <th>points_dropping</th>\n",
       "      <th>next_best</th>\n",
       "    </tr>\n",
       "    <tr>\n",
       "      <th>date</th>\n",
       "      <th></th>\n",
       "      <th></th>\n",
       "      <th></th>\n",
       "      <th></th>\n",
       "      <th></th>\n",
       "      <th></th>\n",
       "      <th></th>\n",
       "      <th></th>\n",
       "      <th></th>\n",
       "    </tr>\n",
       "  </thead>\n",
       "  <tbody>\n",
       "    <tr>\n",
       "      <th>2020-01-06</th>\n",
       "      <td>1</td>\n",
       "      <td>0.0</td>\n",
       "      <td>ESP</td>\n",
       "      <td>Rafael Nadal</td>\n",
       "      <td>33.0</td>\n",
       "      <td>9985</td>\n",
       "      <td>17</td>\n",
       "      <td>0</td>\n",
       "      <td>0</td>\n",
       "    </tr>\n",
       "    <tr>\n",
       "      <th>2020-01-06</th>\n",
       "      <td>2</td>\n",
       "      <td>0.0</td>\n",
       "      <td>SRB</td>\n",
       "      <td>Novak Djokovic</td>\n",
       "      <td>32.0</td>\n",
       "      <td>9055</td>\n",
       "      <td>16</td>\n",
       "      <td>0</td>\n",
       "      <td>0</td>\n",
       "    </tr>\n",
       "    <tr>\n",
       "      <th>2020-01-06</th>\n",
       "      <td>3</td>\n",
       "      <td>0.0</td>\n",
       "      <td>SUI</td>\n",
       "      <td>Roger Federer</td>\n",
       "      <td>38.0</td>\n",
       "      <td>6590</td>\n",
       "      <td>17</td>\n",
       "      <td>0</td>\n",
       "      <td>0</td>\n",
       "    </tr>\n",
       "    <tr>\n",
       "      <th>2020-01-06</th>\n",
       "      <td>4</td>\n",
       "      <td>0.0</td>\n",
       "      <td>AUT</td>\n",
       "      <td>Dominic Thiem</td>\n",
       "      <td>26.0</td>\n",
       "      <td>5825</td>\n",
       "      <td>21</td>\n",
       "      <td>0</td>\n",
       "      <td>0</td>\n",
       "    </tr>\n",
       "    <tr>\n",
       "      <th>2020-01-06</th>\n",
       "      <td>5</td>\n",
       "      <td>0.0</td>\n",
       "      <td>RUS</td>\n",
       "      <td>Daniil Medvedev</td>\n",
       "      <td>23.0</td>\n",
       "      <td>5705</td>\n",
       "      <td>23</td>\n",
       "      <td>0</td>\n",
       "      <td>0</td>\n",
       "    </tr>\n",
       "  </tbody>\n",
       "</table>\n",
       "</div>"
      ],
      "text/plain": [
       "           ranking  move country           player   age  points  tournaments  \\\n",
       "date                                                                           \n",
       "2020-01-06       1   0.0     ESP     Rafael Nadal  33.0    9985           17   \n",
       "2020-01-06       2   0.0     SRB   Novak Djokovic  32.0    9055           16   \n",
       "2020-01-06       3   0.0     SUI    Roger Federer  38.0    6590           17   \n",
       "2020-01-06       4   0.0     AUT    Dominic Thiem  26.0    5825           21   \n",
       "2020-01-06       5   0.0     RUS  Daniil Medvedev  23.0    5705           23   \n",
       "\n",
       "            points_dropping  next_best  \n",
       "date                                    \n",
       "2020-01-06                0          0  \n",
       "2020-01-06                0          0  \n",
       "2020-01-06                0          0  \n",
       "2020-01-06                0          0  \n",
       "2020-01-06                0          0  "
      ]
     },
     "execution_count": 117,
     "metadata": {},
     "output_type": "execute_result"
    }
   ],
   "source": [
    "rankdrop_df = df.copy()\n",
    "rankdrop_df.index = rankdrop_df[\"date\"]\n",
    "rankdrop_df = rankdrop_df.drop(columns=['date'])\n",
    "\n",
    "rankdrop_df.head()"
   ]
  },
  {
   "cell_type": "code",
   "execution_count": 118,
   "metadata": {},
   "outputs": [],
   "source": [
    "rankdrop_df['ranking'] = rankdrop_df['ranking'].str.replace('T','').astype(int)"
   ]
  },
  {
   "cell_type": "code",
   "execution_count": 119,
   "metadata": {},
   "outputs": [],
   "source": [
    " rankdrop_df = rankdrop_df.groupby([\"player\", rankdrop_df.index.year]).agg({\"ranking\": \"mean\"}).reset_index()"
   ]
  },
  {
   "cell_type": "code",
   "execution_count": 120,
   "metadata": {},
   "outputs": [
    {
     "data": {
      "text/html": [
       "<div>\n",
       "<style scoped>\n",
       "    .dataframe tbody tr th:only-of-type {\n",
       "        vertical-align: middle;\n",
       "    }\n",
       "\n",
       "    .dataframe tbody tr th {\n",
       "        vertical-align: top;\n",
       "    }\n",
       "\n",
       "    .dataframe thead th {\n",
       "        text-align: right;\n",
       "    }\n",
       "</style>\n",
       "<table border=\"1\" class=\"dataframe\">\n",
       "  <thead>\n",
       "    <tr style=\"text-align: right;\">\n",
       "      <th></th>\n",
       "      <th>player</th>\n",
       "      <th>date</th>\n",
       "      <th>ranking</th>\n",
       "    </tr>\n",
       "  </thead>\n",
       "  <tbody>\n",
       "    <tr>\n",
       "      <th>0</th>\n",
       "      <td>Aaron Krickstein</td>\n",
       "      <td>1983</td>\n",
       "      <td>95.000000</td>\n",
       "    </tr>\n",
       "    <tr>\n",
       "      <th>1</th>\n",
       "      <td>Aaron Krickstein</td>\n",
       "      <td>1984</td>\n",
       "      <td>42.840909</td>\n",
       "    </tr>\n",
       "    <tr>\n",
       "      <th>2</th>\n",
       "      <td>Aaron Krickstein</td>\n",
       "      <td>1985</td>\n",
       "      <td>18.243902</td>\n",
       "    </tr>\n",
       "    <tr>\n",
       "      <th>3</th>\n",
       "      <td>Aaron Krickstein</td>\n",
       "      <td>1986</td>\n",
       "      <td>32.243902</td>\n",
       "    </tr>\n",
       "    <tr>\n",
       "      <th>4</th>\n",
       "      <td>Aaron Krickstein</td>\n",
       "      <td>1987</td>\n",
       "      <td>35.372093</td>\n",
       "    </tr>\n",
       "  </tbody>\n",
       "</table>\n",
       "</div>"
      ],
      "text/plain": [
       "             player  date    ranking\n",
       "0  Aaron Krickstein  1983  95.000000\n",
       "1  Aaron Krickstein  1984  42.840909\n",
       "2  Aaron Krickstein  1985  18.243902\n",
       "3  Aaron Krickstein  1986  32.243902\n",
       "4  Aaron Krickstein  1987  35.372093"
      ]
     },
     "execution_count": 120,
     "metadata": {},
     "output_type": "execute_result"
    }
   ],
   "source": [
    "rankdrop_df.head()"
   ]
  },
  {
   "cell_type": "code",
   "execution_count": 121,
   "metadata": {},
   "outputs": [
    {
     "data": {
      "text/html": [
       "<div>\n",
       "<style scoped>\n",
       "    .dataframe tbody tr th:only-of-type {\n",
       "        vertical-align: middle;\n",
       "    }\n",
       "\n",
       "    .dataframe tbody tr th {\n",
       "        vertical-align: top;\n",
       "    }\n",
       "\n",
       "    .dataframe thead th {\n",
       "        text-align: right;\n",
       "    }\n",
       "</style>\n",
       "<table border=\"1\" class=\"dataframe\">\n",
       "  <thead>\n",
       "    <tr style=\"text-align: right;\">\n",
       "      <th></th>\n",
       "      <th>player</th>\n",
       "      <th>date</th>\n",
       "      <th>ranking</th>\n",
       "      <th>shift</th>\n",
       "    </tr>\n",
       "  </thead>\n",
       "  <tbody>\n",
       "    <tr>\n",
       "      <th>0</th>\n",
       "      <td>Aaron Krickstein</td>\n",
       "      <td>1983</td>\n",
       "      <td>95.000000</td>\n",
       "      <td>NaN</td>\n",
       "    </tr>\n",
       "    <tr>\n",
       "      <th>1</th>\n",
       "      <td>Aaron Krickstein</td>\n",
       "      <td>1984</td>\n",
       "      <td>42.840909</td>\n",
       "      <td>1.0</td>\n",
       "    </tr>\n",
       "    <tr>\n",
       "      <th>2</th>\n",
       "      <td>Aaron Krickstein</td>\n",
       "      <td>1985</td>\n",
       "      <td>18.243902</td>\n",
       "      <td>1.0</td>\n",
       "    </tr>\n",
       "    <tr>\n",
       "      <th>3</th>\n",
       "      <td>Aaron Krickstein</td>\n",
       "      <td>1986</td>\n",
       "      <td>32.243902</td>\n",
       "      <td>1.0</td>\n",
       "    </tr>\n",
       "    <tr>\n",
       "      <th>4</th>\n",
       "      <td>Aaron Krickstein</td>\n",
       "      <td>1987</td>\n",
       "      <td>35.372093</td>\n",
       "      <td>1.0</td>\n",
       "    </tr>\n",
       "  </tbody>\n",
       "</table>\n",
       "</div>"
      ],
      "text/plain": [
       "             player  date    ranking  shift\n",
       "0  Aaron Krickstein  1983  95.000000    NaN\n",
       "1  Aaron Krickstein  1984  42.840909    1.0\n",
       "2  Aaron Krickstein  1985  18.243902    1.0\n",
       "3  Aaron Krickstein  1986  32.243902    1.0\n",
       "4  Aaron Krickstein  1987  35.372093    1.0"
      ]
     },
     "execution_count": 121,
     "metadata": {},
     "output_type": "execute_result"
    }
   ],
   "source": [
    "rankdrop_df[\"shift\"] = rankdrop_df[\"date\"] - rankdrop_df[\"date\"].shift(1)\n",
    "rankdrop_df.head()"
   ]
  },
  {
   "cell_type": "code",
   "execution_count": 122,
   "metadata": {},
   "outputs": [
    {
     "data": {
      "text/html": [
       "<div>\n",
       "<style scoped>\n",
       "    .dataframe tbody tr th:only-of-type {\n",
       "        vertical-align: middle;\n",
       "    }\n",
       "\n",
       "    .dataframe tbody tr th {\n",
       "        vertical-align: top;\n",
       "    }\n",
       "\n",
       "    .dataframe thead th {\n",
       "        text-align: right;\n",
       "    }\n",
       "</style>\n",
       "<table border=\"1\" class=\"dataframe\">\n",
       "  <thead>\n",
       "    <tr style=\"text-align: right;\">\n",
       "      <th></th>\n",
       "      <th>player</th>\n",
       "      <th>date</th>\n",
       "      <th>ranking</th>\n",
       "      <th>shift</th>\n",
       "      <th>ranking_diff</th>\n",
       "    </tr>\n",
       "  </thead>\n",
       "  <tbody>\n",
       "    <tr>\n",
       "      <th>0</th>\n",
       "      <td>Aaron Krickstein</td>\n",
       "      <td>1983</td>\n",
       "      <td>95.000000</td>\n",
       "      <td>NaN</td>\n",
       "      <td>NaN</td>\n",
       "    </tr>\n",
       "    <tr>\n",
       "      <th>1</th>\n",
       "      <td>Aaron Krickstein</td>\n",
       "      <td>1984</td>\n",
       "      <td>42.840909</td>\n",
       "      <td>1.0</td>\n",
       "      <td>-52.159091</td>\n",
       "    </tr>\n",
       "    <tr>\n",
       "      <th>2</th>\n",
       "      <td>Aaron Krickstein</td>\n",
       "      <td>1985</td>\n",
       "      <td>18.243902</td>\n",
       "      <td>1.0</td>\n",
       "      <td>-24.597007</td>\n",
       "    </tr>\n",
       "    <tr>\n",
       "      <th>3</th>\n",
       "      <td>Aaron Krickstein</td>\n",
       "      <td>1986</td>\n",
       "      <td>32.243902</td>\n",
       "      <td>1.0</td>\n",
       "      <td>14.000000</td>\n",
       "    </tr>\n",
       "    <tr>\n",
       "      <th>4</th>\n",
       "      <td>Aaron Krickstein</td>\n",
       "      <td>1987</td>\n",
       "      <td>35.372093</td>\n",
       "      <td>1.0</td>\n",
       "      <td>3.128191</td>\n",
       "    </tr>\n",
       "  </tbody>\n",
       "</table>\n",
       "</div>"
      ],
      "text/plain": [
       "             player  date    ranking  shift  ranking_diff\n",
       "0  Aaron Krickstein  1983  95.000000    NaN           NaN\n",
       "1  Aaron Krickstein  1984  42.840909    1.0    -52.159091\n",
       "2  Aaron Krickstein  1985  18.243902    1.0    -24.597007\n",
       "3  Aaron Krickstein  1986  32.243902    1.0     14.000000\n",
       "4  Aaron Krickstein  1987  35.372093    1.0      3.128191"
      ]
     },
     "execution_count": 122,
     "metadata": {},
     "output_type": "execute_result"
    }
   ],
   "source": [
    "for i in range(1, len(rankdrop_df)):\n",
    "    if rankdrop_df.loc[i, \"shift\"] == 1:\n",
    "        try:\n",
    "            rankdrop_df.loc[i, 'ranking_diff'] = rankdrop_df.loc[i, 'ranking'] - rankdrop_df.loc[i-1, 'ranking']\n",
    "        except:\n",
    "            rankdrop_df.loc[i, 'ranking_diff'] = np.nan\n",
    "    else:\n",
    "        rankdrop_df.loc[i, 'ranking_diff'] = np.nan\n",
    "        \n",
    "rankdrop_df.head()"
   ]
  },
  {
   "cell_type": "code",
   "execution_count": 124,
   "metadata": {},
   "outputs": [
    {
     "data": {
      "text/html": [
       "<div>\n",
       "<style scoped>\n",
       "    .dataframe tbody tr th:only-of-type {\n",
       "        vertical-align: middle;\n",
       "    }\n",
       "\n",
       "    .dataframe tbody tr th {\n",
       "        vertical-align: top;\n",
       "    }\n",
       "\n",
       "    .dataframe thead th {\n",
       "        text-align: right;\n",
       "    }\n",
       "</style>\n",
       "<table border=\"1\" class=\"dataframe\">\n",
       "  <thead>\n",
       "    <tr style=\"text-align: right;\">\n",
       "      <th></th>\n",
       "      <th>player</th>\n",
       "      <th>date</th>\n",
       "      <th>ranking</th>\n",
       "      <th>shift</th>\n",
       "      <th>ranking_diff</th>\n",
       "    </tr>\n",
       "  </thead>\n",
       "  <tbody>\n",
       "    <tr>\n",
       "      <th>5522</th>\n",
       "      <td>Robert Lutz</td>\n",
       "      <td>1982</td>\n",
       "      <td>95.0</td>\n",
       "      <td>1.0</td>\n",
       "      <td>67.5</td>\n",
       "    </tr>\n",
       "  </tbody>\n",
       "</table>\n",
       "</div>"
      ],
      "text/plain": [
       "           player  date  ranking  shift  ranking_diff\n",
       "5522  Robert Lutz  1982     95.0    1.0          67.5"
      ]
     },
     "execution_count": 124,
     "metadata": {},
     "output_type": "execute_result"
    }
   ],
   "source": [
    "rankdrop_df[rankdrop_df[\"ranking_diff\"] == rankdrop_df[\"ranking_diff\"].max()]"
   ]
  }
 ],
 "metadata": {
  "kernelspec": {
   "display_name": "Python 3",
   "language": "python",
   "name": "python3"
  },
  "language_info": {
   "codemirror_mode": {
    "name": "ipython",
    "version": 3
   },
   "file_extension": ".py",
   "mimetype": "text/x-python",
   "name": "python",
   "nbconvert_exporter": "python",
   "pygments_lexer": "ipython3",
   "version": "3.7.3"
  }
 },
 "nbformat": 4,
 "nbformat_minor": 4
}
